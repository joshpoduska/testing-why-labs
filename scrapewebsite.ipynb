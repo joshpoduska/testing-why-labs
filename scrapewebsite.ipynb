{
 "cells": [
  {
   "cell_type": "code",
   "execution_count": 1,
   "id": "4c8e726f-7ba8-4da7-84e1-4b8bfdc1e990",
   "metadata": {},
   "outputs": [
    {
     "name": "stdout",
     "output_type": "stream",
     "text": [
      "Collecting bs4\n",
      "  Downloading bs4-0.0.1.tar.gz (1.1 kB)\n",
      "  Installing build dependencies ... \u001b[?25ldone\n",
      "\u001b[?25h  Getting requirements to build wheel ... \u001b[?25ldone\n",
      "\u001b[?25h  Preparing metadata (pyproject.toml) ... \u001b[?25ldone\n",
      "\u001b[?25hRequirement already satisfied: beautifulsoup4 in /Library/Frameworks/Python.framework/Versions/3.11/lib/python3.11/site-packages (from bs4) (4.12.2)\n",
      "Requirement already satisfied: soupsieve>1.2 in /Library/Frameworks/Python.framework/Versions/3.11/lib/python3.11/site-packages (from beautifulsoup4->bs4) (2.5)\n",
      "Building wheels for collected packages: bs4\n",
      "  Building wheel for bs4 (pyproject.toml) ... \u001b[?25ldone\n",
      "\u001b[?25h  Created wheel for bs4: filename=bs4-0.0.1-py3-none-any.whl size=1256 sha256=afefab953a656f132e879e5f72c37e8363e8de0ad565397a05de15897d0111ef\n",
      "  Stored in directory: /Users/josh.poduska/Library/Caches/pip/wheels/d4/c8/5b/b5be9c20e5e4503d04a6eac8a3cd5c2393505c29f02bea0960\n",
      "Successfully built bs4\n",
      "Installing collected packages: bs4\n",
      "Successfully installed bs4-0.0.1\n",
      "\n",
      "\u001b[1m[\u001b[0m\u001b[34;49mnotice\u001b[0m\u001b[1;39;49m]\u001b[0m\u001b[39;49m A new release of pip is available: \u001b[0m\u001b[31;49m23.1.2\u001b[0m\u001b[39;49m -> \u001b[0m\u001b[32;49m23.2.1\u001b[0m\n",
      "\u001b[1m[\u001b[0m\u001b[34;49mnotice\u001b[0m\u001b[1;39;49m]\u001b[0m\u001b[39;49m To update, run: \u001b[0m\u001b[32;49mpip3 install --upgrade pip\u001b[0m\n",
      "Note: you may need to restart the kernel to use updated packages.\n"
     ]
    }
   ],
   "source": [
    "pip install bs4"
   ]
  },
  {
   "cell_type": "code",
   "execution_count": 7,
   "id": "fa3246fd-46b8-4522-a735-904a44f41288",
   "metadata": {},
   "outputs": [],
   "source": [
    "import requests\n",
    "from bs4 import BeautifulSoup\n",
    "from urllib.parse import urljoin"
   ]
  },
  {
   "cell_type": "code",
   "execution_count": 10,
   "id": "4e7d7780-6ef1-4f1e-b3f1-29d7613d9843",
   "metadata": {},
   "outputs": [],
   "source": [
    "url = \"https://docs.whylabs.ai/docs/\""
   ]
  },
  {
   "cell_type": "code",
   "execution_count": 15,
   "id": "d9cb64a1-7c95-412d-af34-6856527ac8c7",
   "metadata": {},
   "outputs": [],
   "source": [
    "soup = BeautifulSoup(requests.get(url).text, 'html.parser')"
   ]
  },
  {
   "cell_type": "code",
   "execution_count": 43,
   "id": "e4edf461-3cbe-46d4-b86f-b5015227130d",
   "metadata": {},
   "outputs": [],
   "source": [
    "absolute_urls = []\n",
    "check = 'docs.whylabs.ai'\n",
    "for link in soup.find_all('a', href=True):\n",
    "    linkjoin = urljoin(base_url, link['href'])\n",
    "    if check in linkjoin: \n",
    "        absolute_urls.append(linkjoin)\n",
    "        subsoup = BeautifulSoup(requests.get(linkjoin).text, 'html.parser')\n",
    "        for sublink in subsoup.find_all('a', href=True):\n",
    "            sublinkjoin = urljoin(linkjoin, sublink['href'])\n",
    "            if check in sublinkjoin: \n",
    "                absolute_urls.append(sublinkjoin)\n",
    "                i+=1"
   ]
  },
  {
   "cell_type": "code",
   "execution_count": 54,
   "id": "598310e4-1217-44af-9e50-59db5558cdf5",
   "metadata": {},
   "outputs": [],
   "source": [
    "# absolute_urls"
   ]
  },
  {
   "cell_type": "code",
   "execution_count": 50,
   "id": "303ab2ad-5eb8-4db7-a0fd-a1045ad42a79",
   "metadata": {},
   "outputs": [],
   "source": [
    "unique_urls = list(set(absolute_urls))"
   ]
  },
  {
   "cell_type": "code",
   "execution_count": 55,
   "id": "7ec16ff4-b1df-4221-b1b9-6687da65b1ea",
   "metadata": {},
   "outputs": [],
   "source": [
    "# unique_urls"
   ]
  },
  {
   "cell_type": "code",
   "execution_count": 52,
   "id": "44e8bb2b-224a-4388-a9c9-8ef5c4ef49d3",
   "metadata": {},
   "outputs": [
    {
     "data": {
      "text/plain": [
       "137"
      ]
     },
     "execution_count": 52,
     "metadata": {},
     "output_type": "execute_result"
    }
   ],
   "source": [
    "len(unique_urls)"
   ]
  },
  {
   "cell_type": "code",
   "execution_count": 53,
   "id": "49bfdf1d-20d4-487e-b460-c95ca6d8cc5c",
   "metadata": {},
   "outputs": [],
   "source": [
    "for url in unique_urls:\n",
    "    response = requests.get(url)\n",
    "    if response.status_code == 200:\n",
    "        soup = BeautifulSoup(response.text, 'html.parser')\n",
    "        # Extract text from the webpage\n",
    "        text = soup.get_text()\n",
    "        if text:\n",
    "            with open(\"output.txt\", \"a\", encoding=\"utf-8\") as file:\n",
    "                file.write(text)"
   ]
  },
  {
   "cell_type": "code",
   "execution_count": null,
   "id": "2e8396ca-bb60-4f39-86ae-183a09d6c141",
   "metadata": {},
   "outputs": [],
   "source": []
  }
 ],
 "metadata": {
  "kernelspec": {
   "display_name": "Python 3 (ipykernel)",
   "language": "python",
   "name": "python3"
  },
  "language_info": {
   "codemirror_mode": {
    "name": "ipython",
    "version": 3
   },
   "file_extension": ".py",
   "mimetype": "text/x-python",
   "name": "python",
   "nbconvert_exporter": "python",
   "pygments_lexer": "ipython3",
   "version": "3.11.5"
  }
 },
 "nbformat": 4,
 "nbformat_minor": 5
}
